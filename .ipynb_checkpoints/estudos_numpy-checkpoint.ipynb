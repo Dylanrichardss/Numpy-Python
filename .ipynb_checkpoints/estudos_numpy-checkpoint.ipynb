{
 "cells": [
  {
   "cell_type": "code",
   "execution_count": 5,
   "id": "237eca00",
   "metadata": {},
   "outputs": [],
   "source": [
    "import numpy as np"
   ]
  },
  {
   "cell_type": "markdown",
   "id": "24b5e67a",
   "metadata": {},
   "source": [
    "# Array"
   ]
  },
  {
   "cell_type": "markdown",
   "id": "63cea74c",
   "metadata": {},
   "source": [
    "Conjunto de dados -\n",
    "Dimensões diferentes\n",
    "\n",
    "ndarrays - arrays com n dimensões\n",
    "\n",
    "Vetor - Uma dimensão\n",
    "\n",
    "Matriz - Duas dimensões\n",
    "\n",
    "Tensor - Três ou mais dimensões\n",
    "\n"
   ]
  },
  {
   "cell_type": "code",
   "execution_count": 6,
   "id": "a5d92735",
   "metadata": {},
   "outputs": [],
   "source": [
    "a = np.array([1,2,3,4,5,6])\n"
   ]
  },
  {
   "cell_type": "code",
   "execution_count": 7,
   "id": "db2ef72f",
   "metadata": {},
   "outputs": [
    {
     "name": "stdout",
     "output_type": "stream",
     "text": [
      "[1 2 3 4 5 6]\n",
      "<class 'numpy.ndarray'>\n"
     ]
    }
   ],
   "source": [
    "print(a)\n",
    "print(type(a))"
   ]
  },
  {
   "cell_type": "code",
   "execution_count": 8,
   "id": "dc14c2cc",
   "metadata": {},
   "outputs": [
    {
     "name": "stdout",
     "output_type": "stream",
     "text": [
      "[[[0. 0. 0. 0. 0. 0.]\n",
      "  [0. 0. 0. 0. 0. 0.]\n",
      "  [0. 0. 0. 0. 0. 0.]]\n",
      "\n",
      " [[0. 0. 0. 0. 0. 0.]\n",
      "  [0. 0. 0. 0. 0. 0.]\n",
      "  [0. 0. 0. 0. 0. 0.]]\n",
      "\n",
      " [[0. 0. 0. 0. 0. 0.]\n",
      "  [0. 0. 0. 0. 0. 0.]\n",
      "  [0. 0. 0. 0. 0. 0.]]\n",
      "\n",
      " [[0. 0. 0. 0. 0. 0.]\n",
      "  [0. 0. 0. 0. 0. 0.]\n",
      "  [0. 0. 0. 0. 0. 0.]]\n",
      "\n",
      " [[0. 0. 0. 0. 0. 0.]\n",
      "  [0. 0. 0. 0. 0. 0.]\n",
      "  [0. 0. 0. 0. 0. 0.]]]\n"
     ]
    }
   ],
   "source": [
    "zero = np.zeros(shape = (5,3,6))\n",
    "print (zero)\n",
    "#zeros. Cria array só com zeros.\n",
    "#5 dimensões (vertical), 3 linhas (horizontal), 6 colunas(tamanho de dimensõse)\n",
    "#Está em 3D. Porém estamos vendo isso em 2D"
   ]
  },
  {
   "cell_type": "code",
   "execution_count": 9,
   "id": "be314799",
   "metadata": {
    "scrolled": false
   },
   "outputs": [
    {
     "name": "stdout",
     "output_type": "stream",
     "text": [
      "[[1. 1. 1.]\n",
      " [1. 1. 1.]]\n"
     ]
    }
   ],
   "source": [
    "um = np.ones(shape = (2,3))\n",
    "print(um)"
   ]
  },
  {
   "cell_type": "code",
   "execution_count": 10,
   "id": "5ada105e",
   "metadata": {
    "scrolled": true
   },
   "outputs": [
    {
     "name": "stdout",
     "output_type": "stream",
     "text": [
      "[1.]\n"
     ]
    }
   ],
   "source": [
    "vazio = np.empty(1)\n",
    "print(vazio)"
   ]
  },
  {
   "cell_type": "code",
   "execution_count": 11,
   "id": "65800889",
   "metadata": {},
   "outputs": [
    {
     "name": "stdout",
     "output_type": "stream",
     "text": [
      "[0 1 2 3 4 5 6 7 8 9]\n",
      "[ 1  2  3  4  5  6  7  8  9 10]\n"
     ]
    }
   ],
   "source": [
    "arr = np.arange(10)\n",
    "print(arr)\n",
    "arr2 = np.arange(1, 11,1)\n",
    "#começo, fim, incremento\n",
    "print(arr2)"
   ]
  },
  {
   "cell_type": "code",
   "execution_count": 12,
   "id": "e093a8b5",
   "metadata": {},
   "outputs": [
    {
     "name": "stdout",
     "output_type": "stream",
     "text": [
      "[ 0.  5. 10. 15. 20. 25. 30. 35. 40. 45. 50. 55. 60. 65. 70. 75. 80. 85.\n",
      " 90. 95.]\n"
     ]
    }
   ],
   "source": [
    "#sequencias. Sequencia linear\n",
    "#começo, fim, num= 50, endpoint,\n",
    "#endpoint é o numero no final, decimaol para arredondato\n",
    "#num é quantos elementos ele vai mostrar\n",
    "#retstep pode ser true ou false. Diferença de quanto em quanto ele está fazendo. Reta em termo de valores\n",
    "seq = np.linspace(0, 100, num= 20, endpoint = False)\n",
    "print(seq)"
   ]
  },
  {
   "cell_type": "markdown",
   "id": "f8dcc1e2",
   "metadata": {},
   "source": [
    "Descobrindo tamanho"
   ]
  },
  {
   "cell_type": "code",
   "execution_count": 13,
   "id": "2c83bd9f",
   "metadata": {
    "scrolled": true
   },
   "outputs": [
    {
     "name": "stdout",
     "output_type": "stream",
     "text": [
      "(5, 3, 6)\n",
      "90\n",
      "3\n"
     ]
    }
   ],
   "source": [
    "print(zero.shape)\n",
    "#5 em uma dimensão, 3 em outra, 6 em outra\n",
    "print(zero.size)\n",
    "#90 dados\n",
    "print(zero.ndim)\n",
    "#numero de dimensões. 3. Uma dimensão 3, outra 5, 6. Assim, 3 dimensões"
   ]
  },
  {
   "cell_type": "markdown",
   "id": "fa365ecc",
   "metadata": {},
   "source": [
    "Mudando tamanho. Agregar outra dimensão\n",
    "\n"
   ]
  },
  {
   "cell_type": "code",
   "execution_count": 14,
   "id": "5cb49886",
   "metadata": {
    "scrolled": true
   },
   "outputs": [
    {
     "name": "stdout",
     "output_type": "stream",
     "text": [
      "[[1.]\n",
      " [1.]\n",
      " [1.]\n",
      " [1.]\n",
      " [1.]\n",
      " [1.]]\n"
     ]
    }
   ],
   "source": [
    "um1 = um.reshape([6,1])\n",
    "print(um1)"
   ]
  },
  {
   "cell_type": "code",
   "execution_count": 15,
   "id": "ff875785",
   "metadata": {},
   "outputs": [
    {
     "name": "stdout",
     "output_type": "stream",
     "text": [
      "(3,)\n",
      "1\n",
      "[1 2 3]\n",
      "\n",
      "(1, 3)\n",
      "2\n",
      "[[1 2 3]]\n",
      "\n",
      "(3, 1)\n",
      "2\n",
      "[[1]\n",
      " [2]\n",
      " [3]]\n",
      "\n"
     ]
    }
   ],
   "source": [
    "#horizontal, vertical, tamanho\n",
    "#newaxis cria apenas uma nova dimensão\n",
    "\n",
    "a = np.array([1,2,3])\n",
    "print(a.shape)\n",
    "print(a.ndim)\n",
    "print(a)\n",
    "print()\n",
    "#Uma dimensão de tamanho 3\n",
    "\n",
    "a2 = a[np.newaxis, :]\n",
    "print(a2.shape)\n",
    "print(a2.ndim)\n",
    "print(a2)\n",
    "print()\n",
    "#Duas dimensões. Uma de tamanho 1 e a outra de tamanho 3\n",
    "\n",
    "a21 = a[:, np.newaxis]\n",
    "print(a21.shape)\n",
    "print(a21.ndim)\n",
    "print(a21)\n",
    "print()\n",
    "#Duas dimensões. Uma de tamanho 1 e a outra de tamanho 3\n",
    "\n",
    "# : é pegar todos os dados que tinha dentro de a, e c"
   ]
  },
  {
   "cell_type": "markdown",
   "id": "3cb7ca54",
   "metadata": {},
   "source": [
    "Sort"
   ]
  },
  {
   "cell_type": "code",
   "execution_count": 16,
   "id": "bdfde7c9",
   "metadata": {
    "scrolled": true
   },
   "outputs": [
    {
     "name": "stdout",
     "output_type": "stream",
     "text": [
      "[ 0.  5. 10. 15. 20. 25. 30. 35. 40. 45. 50. 55. 60. 65. 70. 75. 80. 85.\n",
      " 90. 95.]\n"
     ]
    }
   ],
   "source": [
    "opa = np.sort(seq)\n",
    "print(opa)"
   ]
  },
  {
   "cell_type": "code",
   "execution_count": 24,
   "id": "8dce6932",
   "metadata": {
    "scrolled": false
   },
   "outputs": [
    {
     "name": "stdout",
     "output_type": "stream",
     "text": [
      "[1]\n",
      "1\n"
     ]
    }
   ],
   "source": [
    "print(a21[0]) #quer o item 0, primeira item, desta dimensão\n",
    "print(a21[0][0]) #quer o item 0 da primeira dimensão\n"
   ]
  },
  {
   "cell_type": "markdown",
   "id": "37adf738",
   "metadata": {},
   "source": [
    "\n",
    "Concatenando arrays"
   ]
  },
  {
   "cell_type": "code",
   "execution_count": 26,
   "id": "9466133b",
   "metadata": {},
   "outputs": [
    {
     "name": "stdout",
     "output_type": "stream",
     "text": [
      "[1 2 3 4 5 6]\n",
      "[4 5 6 1 2 3]\n"
     ]
    }
   ],
   "source": [
    "#juntar arrays diferentes\n",
    "a = np.array([1,2,3])\n",
    "b = np.array([4,5,6])\n",
    "c = np.concatenate((a,b))\n",
    "d = np.concatenate((b,a))\n",
    "print(c)\n",
    "print(d)\n"
   ]
  },
  {
   "cell_type": "markdown",
   "id": "e5e17056",
   "metadata": {},
   "source": [
    "Consultar itens de uma array\n",
    "\n"
   ]
  },
  {
   "cell_type": "code",
   "execution_count": 33,
   "id": "eaa48ce3",
   "metadata": {},
   "outputs": [
    {
     "name": "stdout",
     "output_type": "stream",
     "text": [
      "[[ 1  2  3  4]\n",
      " [ 5  6  7  8]\n",
      " [ 9 10 11 12]]\n",
      "(3, 4)\n",
      "--------------\n",
      "[1 2 3 4 5 6 7]\n",
      "[ 2  4  6  8 10 12]\n"
     ]
    }
   ],
   "source": [
    "a = np.array([[1,2,3,4], [5,6,7,8], [9,10,11,12]])\n",
    "print(a)\n",
    "print(a.shape)\n",
    "print(\"--------------\")\n",
    "maior_8 = a[a<8]\n",
    "print(maior_8)\n",
    "resto = a[a%2==0]\n",
    "print(resto)"
   ]
  },
  {
   "cell_type": "markdown",
   "id": "51acab92",
   "metadata": {},
   "source": [
    "Operações\n",
    "\n"
   ]
  },
  {
   "cell_type": "code",
   "execution_count": 34,
   "id": "d905a997",
   "metadata": {},
   "outputs": [
    {
     "name": "stdout",
     "output_type": "stream",
     "text": [
      "6\n",
      "3\n",
      "1\n",
      "2.0\n"
     ]
    }
   ],
   "source": [
    "a = np.array([1,2,3])\n",
    "#calculos\n",
    "print(a.sum())\n",
    "print(a.max())\n",
    "print(a.min())\n",
    "print(a.mean())"
   ]
  },
  {
   "cell_type": "code",
   "execution_count": 35,
   "id": "563c79b2",
   "metadata": {},
   "outputs": [],
   "source": [
    "from numpy.random import default_rng"
   ]
  },
  {
   "cell_type": "code",
   "execution_count": 37,
   "id": "0bee0f98",
   "metadata": {},
   "outputs": [
    {
     "name": "stdout",
     "output_type": "stream",
     "text": [
      "[[7 9 0 2]\n",
      " [6 6 6 3]]\n"
     ]
    }
   ],
   "source": [
    "rng = default_rng()\n",
    "aleatorio = rng.integers(10, size=(2,4))\n",
    "#aleatorio é trazer numero aleatorio no máximo até 10, de 2 dimensões, onde uma tenha tamanho 2 e outra 4\n",
    "print(aleatorio)"
   ]
  },
  {
   "cell_type": "markdown",
   "id": "80676008",
   "metadata": {},
   "source": [
    "Arrays é para quantidade de dados grande. Melhor que lista nestes casos."
   ]
  },
  {
   "cell_type": "code",
   "execution_count": 40,
   "id": "6dff466a",
   "metadata": {},
   "outputs": [
    {
     "name": "stdout",
     "output_type": "stream",
     "text": [
      "[1 2 3 4 5 6 7 8]\n",
      "<class 'numpy.ndarray'>\n",
      "----------\n",
      "[1, 2, 3, 4, 5, 6, 7, 8]\n",
      "<class 'list'>\n"
     ]
    }
   ],
   "source": [
    "a = np.array([1,2,3,4,5,6,7,8]) \n",
    "#arrays só permite que todos os dados sejam de um tipo. Se um for string, todos serão strings. \n",
    "#Não permite tipos de dados diferentes\n",
    "print(a)\n",
    "print(type(a))\n",
    "print('----------')\n",
    "lista_a= [1,2,3,4,5,6,7,8]\n",
    "print(lista_a)\n",
    "print(type(lista_a))"
   ]
  },
  {
   "cell_type": "markdown",
   "id": "b9ccca62",
   "metadata": {},
   "source": [
    "# Revisão Numpy para Plotly"
   ]
  },
  {
   "cell_type": "code",
   "execution_count": 46,
   "id": "5929a8ac",
   "metadata": {},
   "outputs": [
    {
     "name": "stdout",
     "output_type": "stream",
     "text": [
      "[[1 3 4]\n",
      " [4 5 6]\n",
      " [1 2 3]]\n",
      "[[ 2  1  0]\n",
      " [ 5  7 11]\n",
      " [12 13  0]]\n"
     ]
    }
   ],
   "source": [
    "matriz1 = np.array([[1,3,4],[4,5,6],[1,2,3]])\n",
    "\n",
    "matriz2 = np.array(\n",
    "    [[2,1,0],\n",
    "    [5,7,11],\n",
    "    [12,13,0]])\n",
    "\n",
    "print (matriz1)\n",
    "print(matriz2)"
   ]
  },
  {
   "cell_type": "code",
   "execution_count": 47,
   "id": "80158575",
   "metadata": {},
   "outputs": [
    {
     "name": "stdout",
     "output_type": "stream",
     "text": [
      "[[ 3  4  4]\n",
      " [ 9 12 17]\n",
      " [13 15  3]]\n"
     ]
    }
   ],
   "source": [
    "print(matriz1 + matriz2) \n",
    "#soma de matrizes"
   ]
  },
  {
   "cell_type": "code",
   "execution_count": 49,
   "id": "1a7911c4",
   "metadata": {},
   "outputs": [
    {
     "name": "stdout",
     "output_type": "stream",
     "text": [
      "[[ 5 15 20]\n",
      " [20 25 30]\n",
      " [ 5 10 15]]\n"
     ]
    }
   ],
   "source": [
    "numero = 5\n",
    "print(matriz1*numero)"
   ]
  },
  {
   "cell_type": "code",
   "execution_count": 52,
   "id": "68f7cb49",
   "metadata": {},
   "outputs": [
    {
     "data": {
      "text/plain": [
       "array([[ 65,  74,  33],\n",
       "       [105, 117,  55],\n",
       "       [ 48,  54,  22]])"
      ]
     },
     "execution_count": 52,
     "metadata": {},
     "output_type": "execute_result"
    }
   ],
   "source": [
    "np.dot(matriz1,matriz2)\n"
   ]
  },
  {
   "cell_type": "code",
   "execution_count": 54,
   "id": "8fddd5e1",
   "metadata": {},
   "outputs": [
    {
     "data": {
      "text/plain": [
       "7"
      ]
     },
     "execution_count": 54,
     "metadata": {},
     "output_type": "execute_result"
    }
   ],
   "source": [
    "np.random.randint(10)\n",
    "#menor, maior, quantidade de elementos\n"
   ]
  },
  {
   "cell_type": "code",
   "execution_count": null,
   "id": "efdc685f",
   "metadata": {},
   "outputs": [],
   "source": []
  },
  {
   "cell_type": "code",
   "execution_count": null,
   "id": "e1c7f1d9",
   "metadata": {},
   "outputs": [],
   "source": []
  }
 ],
 "metadata": {
  "kernelspec": {
   "display_name": "Python 3",
   "language": "python",
   "name": "python3"
  },
  "language_info": {
   "codemirror_mode": {
    "name": "ipython",
    "version": 3
   },
   "file_extension": ".py",
   "mimetype": "text/x-python",
   "name": "python",
   "nbconvert_exporter": "python",
   "pygments_lexer": "ipython3",
   "version": "3.8.8"
  }
 },
 "nbformat": 4,
 "nbformat_minor": 5
}
